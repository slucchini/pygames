{
 "cells": [
  {
   "cell_type": "code",
   "execution_count": 1,
   "metadata": {},
   "outputs": [
    {
     "name": "stdout",
     "output_type": "stream",
     "text": [
      "pygame 2.1.2 (SDL 2.0.18, Python 3.10.4)\n",
      "Hello from the pygame community. https://www.pygame.org/contribute.html\n"
     ]
    }
   ],
   "source": [
    "import pygame\n",
    "import math,numpy as np"
   ]
  },
  {
   "cell_type": "code",
   "execution_count": 2,
   "metadata": {},
   "outputs": [],
   "source": [
    "display_width = 800\n",
    "display_height = 600\n",
    "\n",
    "black = (0,0,0)\n",
    "white = (255,255,255)\n",
    "red = (255,0,0)\n",
    "green = (0,255,0)\n",
    "blue = (0,0,255)"
   ]
  },
  {
   "cell_type": "markdown",
   "metadata": {},
   "source": [
    "# Bouncing Balls"
   ]
  },
  {
   "cell_type": "code",
   "execution_count": 3,
   "metadata": {},
   "outputs": [],
   "source": [
    "pix_per_meter = 100\n",
    "def to_pix_units(x,y=None):\n",
    "    if (y is None):\n",
    "        return x*pix_per_meter\n",
    "    else:\n",
    "        return (x*pix_per_meter,display_height - y*pix_per_meter)\n",
    "\n",
    "def to_phys_units(x,y=None):\n",
    "    if (y is None):\n",
    "        return x/pix_per_meter\n",
    "    else:\n",
    "        return (x/pix_per_meter,(display_height - y)/pix_per_meter)"
   ]
  },
  {
   "cell_type": "code",
   "execution_count": 4,
   "metadata": {},
   "outputs": [],
   "source": [
    "class Ball():\n",
    "    def __init__(self,color,x,y,radius,vx,vy):\n",
    "        self.color = color\n",
    "        self.x = x\n",
    "        self.y = y\n",
    "        self.radius = radius\n",
    "        self.vx = vx\n",
    "        self.vy = vy\n",
    "        self.bounced = False\n",
    "    \n",
    "    def update(self,dt=1/60.,gravity=True):\n",
    "        if (gravity):\n",
    "            self.vy -= 9.8*dt\n",
    "        self.x += self.vx*dt\n",
    "        self.y += self.vy*dt\n",
    "        if ((self.y < self.radius) & (self.vy < 0)):\n",
    "            self.bounce('y')\n",
    "            if (self.bounced):\n",
    "                self.vx *= np.sqrt(0.8)\n",
    "                self.bounced = False\n",
    "            else:\n",
    "                self.bounced = True\n",
    "        else:\n",
    "            self.bounced = False\n",
    "        if ((self.x < self.radius) & (self.vx < 0)) | \\\n",
    "            ((self.x > to_phys_units(display_width)-self.radius) & (self.vx > 0)):\n",
    "            self.bounce('x')\n",
    "    \n",
    "    def bounce(self,direction,eloss=True):\n",
    "        if (self.__dict__['v'+direction] < 0):\n",
    "            self.__dict__[direction] = self.radius\n",
    "        else:\n",
    "            self.__dict__[direction] = to_phys_units(display_width)-self.radius\n",
    "        self.__dict__['v'+direction] *= -1\n",
    "        if (eloss):\n",
    "            if (direction == 'y'):\n",
    "                self.__dict__['v'+direction] *= np.sqrt(0.8)\n",
    "            elif (direction == 'x'):\n",
    "                self.__dict__['v'+direction] *= 0.6\n",
    "    \n",
    "    def move(self,x,y):\n",
    "        self.x = x\n",
    "        self.y = y\n",
    "    \n",
    "    def draw(self,screen):\n",
    "        pygame.draw.circle(screen,self.color,to_pix_units(self.x,self.y),to_pix_units(self.radius))\n",
    "\n",
    "def draw_arrow(screen, colour, start, end, size=10):\n",
    "    pygame.draw.line(screen,colour,start,end,2)\n",
    "    rotation = math.degrees(math.atan2(start[1]-end[1], end[0]-start[0]))+90\n",
    "    pygame.draw.polygon(screen, colour, ((end[0]+size*math.sin(math.radians(rotation)), end[1]+size*math.cos(math.radians(rotation))), (end[0]+size*math.sin(math.radians(rotation-120)), end[1]+size*math.cos(math.radians(rotation-120))), (end[0]+size*math.sin(math.radians(rotation+120)), end[1]+size*math.cos(math.radians(rotation+120)))))"
   ]
  },
  {
   "cell_type": "code",
   "execution_count": 5,
   "metadata": {
    "scrolled": true
   },
   "outputs": [],
   "source": [
    "# initialize the pygame module\n",
    "pygame.init()\n",
    "pygame.display.set_caption(\"Bouncing Ball\")\n",
    "clock = pygame.time.Clock()\n",
    "fr = 60\n",
    "\n",
    "balls = []\n",
    "velscl = 3.0\n",
    "\n",
    "# create a surface on screen that has the size of 240 x 180\n",
    "screen = pygame.display.set_mode((display_width,display_height))\n",
    "\n",
    "# define a variable to control the main loop\n",
    "running = True\n",
    "downpos = None\n",
    "newball = None\n",
    "\n",
    "while running:\n",
    "    for event in pygame.event.get():\n",
    "        \n",
    "        randcol = (np.random.randint(256),np.random.randint(256),np.random.randint(256))\n",
    "        if event.type == pygame.QUIT:\n",
    "            running = False\n",
    "        \n",
    "        # mouse button down = add new ball\n",
    "        if event.type == pygame.MOUSEBUTTONDOWN:\n",
    "            downpos = to_phys_units(*pygame.mouse.get_pos())\n",
    "            newball = Ball(randcol,downpos[0],downpos[1],0.2,0,0)\n",
    "        \n",
    "        # mouse button up = set new ball velocity\n",
    "        if event.type == pygame.MOUSEBUTTONUP:\n",
    "            if (downpos is not None):\n",
    "                uppos = to_phys_units(*pygame.mouse.get_pos())\n",
    "                newball.vx = (uppos[0] - downpos[0])*velscl\n",
    "                newball.vy = (uppos[1] - downpos[1])*velscl\n",
    "                balls.append(newball)\n",
    "                downpos = None\n",
    "                newball = None\n",
    "    \n",
    "    screen.fill(white)\n",
    "    if (newball is not None):\n",
    "        newball.draw(screen)\n",
    "        draw_arrow(screen,randcol,to_pix_units(*downpos),pygame.mouse.get_pos())\n",
    "    for b in balls:\n",
    "        b.update()\n",
    "        b.draw(screen)\n",
    "    \n",
    "    pygame.display.update()\n",
    "    clock.tick(60)\n",
    "\n",
    "pygame.quit()"
   ]
  },
  {
   "cell_type": "code",
   "execution_count": null,
   "metadata": {},
   "outputs": [],
   "source": []
  }
 ],
 "metadata": {
  "interpreter": {
   "hash": "c230b76bf0cc4676873c600b3f48d7fc07ccaee047c385cad51731e1fce3fee1"
  },
  "kernelspec": {
   "display_name": "Python 3 (ipykernel)",
   "language": "python",
   "name": "python3"
  },
  "language_info": {
   "codemirror_mode": {
    "name": "ipython",
    "version": 3
   },
   "file_extension": ".py",
   "mimetype": "text/x-python",
   "name": "python",
   "nbconvert_exporter": "python",
   "pygments_lexer": "ipython3",
   "version": "3.8.12"
  }
 },
 "nbformat": 4,
 "nbformat_minor": 2
}
